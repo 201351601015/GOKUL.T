{
  "nbformat": 4,
  "nbformat_minor": 0,
  "metadata": {
    "colab": {
      "name": "Untitled2",
      "provenance": [],
      "toc_visible": true,
      "authorship_tag": "ABX9TyM8sz8NF5rhpJfBjGg0nwdP",
      "include_colab_link": true
    },
    "kernelspec": {
      "name": "python3",
      "display_name": "Python 3"
    },
    "language_info": {
      "name": "python"
    }
  },
  "cells": [
    {
      "cell_type": "markdown",
      "metadata": {
        "id": "view-in-github",
        "colab_type": "text"
      },
      "source": [
        "<a href=\"https://colab.research.google.com/github/201351601015/GOKUL.T/blob/main/Untitled2.ipynb\" target=\"_parent\"><img src=\"https://colab.research.google.com/assets/colab-badge.svg\" alt=\"Open In Colab\"/></a>"
      ]
    },
    {
      "cell_type": "code",
      "execution_count": null,
      "metadata": {
        "id": "V_4Xuid1YmSa",
        "outputId": "adbe2461-dfbb-46f8-b50b-29f78e5dfcff",
        "colab": {
          "base_uri": "https://localhost:8080/"
        }
      },
      "outputs": [
        {
          "output_type": "stream",
          "name": "stdout",
          "text": [
            "choice 1:add,2:sub,3;div,4:mul,5:quit\n",
            "enter the choice of operation :3\n",
            "you have chosen division option:\n",
            "enter the value for A:30\n",
            "enter the value for B:10\n",
            "the result 30 / 10 = 3.0\n"
          ]
        }
      ],
      "source": [
        "\n",
        "\n",
        "print (\"choice 1:add,2:sub,3;div,4:mul,5:quit\")\n",
        "n1 =input(\"enter the choice of operation :\")\n",
        "n =int(n1)\n",
        "if (n==1):\n",
        "  print(\"you have chosen addition option:\")\n",
        "  a1 = input(\"enter the value for A:\")\n",
        "  b1 = input(\"enter the value for B:\")\n",
        "  a =int(a1) \n",
        "  b =int(b1)\n",
        "  c = a+b\n",
        "  print(\"the result\",a,\"+\",b,\"=\",c)\n",
        "elif (n==2):\n",
        "  print(\"you have chosen subtraction option:\")\n",
        "  a1 = input(\"enter the value for A:\")\n",
        "  b1 = input(\"enter the value for B:\")\n",
        "  a =int(a1) \n",
        "  b =int(b1)\n",
        "  c = a-b\n",
        "  print(\"the result\",a,\"-\",b,\"=\",c)\n",
        "elif (n==3):\n",
        "  print(\"you have chosen division option:\")\n",
        "  a1 = input(\"enter the value for A:\")\n",
        "  b1 = input(\"enter the value for B:\")\n",
        "  a =int(a1) \n",
        "  b =int(b1)\n",
        "  c = a/b\n",
        "  print(\"the result\",a,\"/\",b,\"=\",c)\n",
        "elif (n==4):\n",
        "  print(\"you have chosen multiplication option:\")\n",
        "  a1 = input(\"enter the value for A:\")\n",
        "  b1 = input(\"enter the value for B:\")\n",
        "  a =int(a1) \n",
        "  b =int(b1)\n",
        "  c = a*b\n",
        "  print(\"the result\",a,\"*\",b,\"=\",c)\n",
        "elif (n==5):\n",
        "    print(\"you have given a wrong:\",n)\n",
        "    exit()"
      ]
    },
    {
      "cell_type": "markdown",
      "source": [
        "# New Section"
      ],
      "metadata": {
        "id": "dB7Tq58oaqZo"
      }
    }
  ]
}