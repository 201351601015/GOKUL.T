{
  "nbformat": 4,
  "nbformat_minor": 0,
  "metadata": {
    "colab": {
      "name": "Untitled2",
      "provenance": [],
      "authorship_tag": "ABX9TyN/qOTjs61n39GNfyUwa5fn",
      "include_colab_link": true
    },
    "kernelspec": {
      "name": "python3",
      "display_name": "Python 3"
    },
    "language_info": {
      "name": "python"
    }
  },
  "cells": [
    {
      "cell_type": "markdown",
      "metadata": {
        "id": "view-in-github",
        "colab_type": "text"
      },
      "source": [
        "<a href=\"https://colab.research.google.com/github/201351601015/GOKUL.T/blob/main/Untitled2.ipynb\" target=\"_parent\"><img src=\"https://colab.research.google.com/assets/colab-badge.svg\" alt=\"Open In Colab\"/></a>"
      ]
    },
    {
      "cell_type": "code",
      "execution_count": null,
      "metadata": {
        "id": "V_4Xuid1YmSa",
        "outputId": "adbe2461-dfbb-46f8-b50b-29f78e5dfcff",
        "colab": {
          "base_uri": "https://localhost:8080/"
        }
      },
      "outputs": [
        {
          "output_type": "stream",
          "name": "stdout",
          "text": [
            "choice 1:add,2:sub,3;div,4:mul,5:quit\n",
            "enter the choice of operation :3\n",
            "you have chosen division option:\n",
            "enter the value for A:30\n",
            "enter the value for B:10\n",
            "the result 30 / 10 = 3.0\n"
          ]
        }
      ],
      "source": [
        "\n",
        "\n",
        "print (\"choice 1:add,2:sub,3;div,4:mul,5:quit\")\n",
        "n1 =input(\"enter the choice of operation :\")\n",
        "n =int(n1)\n",
        "if (n==1):\n",
        "  print(\"you have chosen addition option:\")\n",
        "  a1 = input(\"enter the value for A:\")\n",
        "  b1 = input(\"enter the value for B:\")\n",
        "  a =int(a1) \n",
        "  b =int(b1)\n",
        "  c = a+b\n",
        "  print(\"the result\",a,\"+\",b,\"=\",c)\n",
        "elif (n==2):\n",
        "  print(\"you have chosen subtraction option:\")\n",
        "  a1 = input(\"enter the value for A:\")\n",
        "  b1 = input(\"enter the value for B:\")\n",
        "  a =int(a1) \n",
        "  b =int(b1)\n",
        "  c = a-b\n",
        "  print(\"the result\",a,\"-\",b,\"=\",c)\n",
        "elif (n==3):\n",
        "  print(\"you have chosen division option:\")\n",
        "  a1 = input(\"enter the value for A:\")\n",
        "  b1 = input(\"enter the value for B:\")\n",
        "  a =int(a1) \n",
        "  b =int(b1)\n",
        "  c = a/b\n",
        "  print(\"the result\",a,\"/\",b,\"=\",c)\n",
        "elif (n==4):\n",
        "  print(\"you have chosen multiplication option:\")\n",
        "  a1 = input(\"enter the value for A:\")\n",
        "  b1 = input(\"enter the value for B:\")\n",
        "  a =int(a1) \n",
        "  b =int(b1)\n",
        "  c = a*b\n",
        "  print(\"the result\",a,\"*\",b,\"=\",c)\n",
        "elif (n==5):\n",
        "    print(\"you have given a wrong:\",n)\n",
        "    exit()"
      ]
    },
    {
      "cell_type": "code",
      "source": [
        "a=True\n",
        "b=False\n",
        "print('a= ',a,'b= ',b)\n",
        "a=False;\n",
        "print('a= ',a,'b= ',b)"
      ],
      "metadata": {
        "colab": {
          "base_uri": "https://localhost:8080/"
        },
        "id": "uRDwjWCLlZVU",
        "outputId": "0ecb1779-f6fc-47df-ee13-1f47bbcc4cd6"
      },
      "execution_count": null,
      "outputs": [
        {
          "output_type": "stream",
          "name": "stdout",
          "text": [
            "a=  True b=  False\n",
            "a=  False b=  False\n"
          ]
        }
      ]
    },
    {
      "cell_type": "code",
      "source": [
        "print(\"     1  2  3  4  5  6  7  8  9  10\")\n",
        "print(\"    <---------------------------->\")\n",
        "for row in range(1,11):\n",
        "  if row<10:\n",
        "    print(\" \",end=\" \")\n",
        "    for column in range(1,11):\n",
        "      product=row*column;\n",
        "      if product<100:\n",
        "        print(end=\" \")\n",
        "      if product<10:\n",
        "        print(end=\" \")\n",
        "      print(product,end=\" \")\n",
        "    print()"
      ],
      "metadata": {
        "colab": {
          "base_uri": "https://localhost:8080/"
        },
        "id": "7Xdve19SljoH",
        "outputId": "ccc9ac47-5460-43fd-cfc5-081c9d2fb042"
      },
      "execution_count": null,
      "outputs": [
        {
          "output_type": "stream",
          "name": "stdout",
          "text": [
            "     1  2  3  4  5  6  7  8  9  10\n",
            "    <---------------------------->\n",
            "    1   2   3   4   5   6   7   8   9  10 \n",
            "    2   4   6   8  10  12  14  16  18  20 \n",
            "    3   6   9  12  15  18  21  24  27  30 \n",
            "    4   8  12  16  20  24  28  32  36  40 \n",
            "    5  10  15  20  25  30  35  40  45  50 \n",
            "    6  12  18  24  30  36  42  48  54  60 \n",
            "    7  14  21  28  35  42  49  56  63  70 \n",
            "    8  16  24  32  40  48  56  64  72  80 \n",
            "    9  18  27  36  45  54  63  72  81  90 \n"
          ]
        }
      ]
    },
    {
      "cell_type": "code",
      "source": [
        "entry=0\n",
        "sum=0\n",
        "print(\"Enter numbers to sum, negative number ends list: \")\n",
        "while entry >=0:\n",
        "  entry =eval(input())\n",
        "  if entry >=0:\n",
        "    sum+=entry\n",
        "print(\"sum=\",sum)"
      ],
      "metadata": {
        "colab": {
          "base_uri": "https://localhost:8080/"
        },
        "id": "SYs0gA1DlpCZ",
        "outputId": "f123d10c-e58a-4cb3-8dd4-6224ff78f5d9"
      },
      "execution_count": null,
      "outputs": [
        {
          "output_type": "stream",
          "name": "stdout",
          "text": [
            "Enter numbers to sum, negative number ends list: \n",
            "40\n",
            "50\n",
            "60\n",
            "-10\n",
            "sum= 150\n"
          ]
        }
      ]
    },
    {
      "cell_type": "code",
      "source": [
        "value=eval(input(\"Please enter an integer in the range 0....5: \"))\n",
        "if value<0:\n",
        "  print(\"Too small\")\n",
        "else:\n",
        "  if value ==0:\n",
        "    print(\"zero\")\n",
        "  else:\n",
        "    if value==1:\n",
        "      print(\"one\")\n",
        "    else:\n",
        "      if value ==2:\n",
        "        print(\"two\")\n",
        "      else:\n",
        "        if value==3:\n",
        "          print(\"three\")\n",
        "        else:\n",
        "          if value==4:\n",
        "            print(\"four\")\n",
        "          else:\n",
        "            if value==5:\n",
        "              print(\"five\")\n",
        "            else:\n",
        "              print(\"too large\")\n",
        "  print(\"done\")"
      ],
      "metadata": {
        "id": "MSeJA_4xl8-_"
      },
      "execution_count": null,
      "outputs": []
    },
    {
      "cell_type": "code",
      "source": [
        "string=input((\"Enter a string:\"))\n",
        "if(string==string[::-1]):\n",
        "      print(\"The letter is a palindrome\")\n",
        "else:  \n",
        "      print(\"The letter is not a palindrome\")"
      ],
      "metadata": {
        "colab": {
          "base_uri": "https://localhost:8080/"
        },
        "id": "2qX9gtJomCmo",
        "outputId": "4f046ef0-8447-49cf-b83c-bec3b2765944"
      },
      "execution_count": null,
      "outputs": [
        {
          "output_type": "stream",
          "name": "stdout",
          "text": [
            "Enter a string:Malayalam\n",
            "The letter is not a palindrome\n"
          ]
        }
      ]
    },
    {
      "cell_type": "code",
      "source": [
        "def changeme(mylist):\n",
        "  \"This changes a passed list into this fucntion\"\n",
        "  mylist.append([1,2,3,4]);\n",
        "  print(\"Values inside the function: \",mylist)\n",
        "  return\n",
        "#now you can call changeme function\n",
        "mylist=[10,20,30];\n",
        "changeme(mylist);\n",
        "print(\"values outside the function: \",mylist)"
      ],
      "metadata": {
        "colab": {
          "base_uri": "https://localhost:8080/"
        },
        "id": "wO7-fmnPnbRy",
        "outputId": "6396d663-4d70-4eb2-d443-585fcbacca7e"
      },
      "execution_count": null,
      "outputs": [
        {
          "output_type": "stream",
          "name": "stdout",
          "text": [
            "Values inside the function:  [10, 20, 30, [1, 2, 3, 4]]\n",
            "values outside the function:  [10, 20, 30, [1, 2, 3, 4]]\n"
          ]
        }
      ]
    },
    {
      "cell_type": "code",
      "source": [
        "def changeme(mylist):\n",
        "  \"This changes a passed list into this function\"\n",
        "  mylist=[1,2,3,4]; #This would assign new reference in mylist\n",
        "  print(\"Values inside the function: \",mylist)\n",
        "  return\n",
        "#now you can call changeme function\n",
        "mylist=[10,20,30];\n",
        "changeme(mylist);\n",
        "print(\"Values outside the function: \",mylist)"
      ],
      "metadata": {
        "colab": {
          "base_uri": "https://localhost:8080/"
        },
        "id": "jlAhrnyDnjoG",
        "outputId": "e7516f5d-e271-4b84-cd69-3155e5e8cea2"
      },
      "execution_count": null,
      "outputs": [
        {
          "output_type": "stream",
          "name": "stdout",
          "text": [
            "Values inside the function:  [1, 2, 3, 4]\n",
            "Values outside the function:  [10, 20, 30]\n"
          ]
        }
      ]
    },
    {
      "cell_type": "code",
      "source": [
        "def printme(str):\n",
        "  \"This prints a passed string into this function\"\n",
        "  print(str)\n",
        "  return;\n",
        "#Now you can call printme function\n",
        "printme(str=\"My string\")"
      ],
      "metadata": {
        "colab": {
          "base_uri": "https://localhost:8080/"
        },
        "id": "w3zzHdS2noaN",
        "outputId": "df48fec6-7876-43e2-9213-554a42bbfcd8"
      },
      "execution_count": null,
      "outputs": [
        {
          "output_type": "stream",
          "name": "stdout",
          "text": [
            "My string\n"
          ]
        }
      ]
    },
    {
      "cell_type": "code",
      "source": [
        "\n",
        "def printinfo(name,age):\n",
        "  \"This prints a passed info into this function\"\n",
        "  print(\"Name: \",name)\n",
        "  print(\"Age: \",age)\n",
        "  return;\n",
        "printinfo(age=50,name=\"miki\")"
      ],
      "metadata": {
        "colab": {
          "base_uri": "https://localhost:8080/"
        },
        "id": "3rJ_SIruns5s",
        "outputId": "928ce822-2acf-491a-f19e-a5294ca42a65"
      },
      "execution_count": null,
      "outputs": [
        {
          "output_type": "stream",
          "name": "stdout",
          "text": [
            "Name:  miki\n",
            "Age:  50\n"
          ]
        }
      ]
    },
    {
      "cell_type": "code",
      "source": [
        "def printinfo(arg1, *vartuple ):\n",
        "  \"This prints a variable passed arguments\"\n",
        "  print(\"Output is: \")\n",
        "  print(arg1)\n",
        "  for var in vartuple:\n",
        "    print(var)\n",
        "  return;\n",
        "printinfo(10)\n",
        "printinfo(70,60,50)"
      ],
      "metadata": {
        "colab": {
          "base_uri": "https://localhost:8080/"
        },
        "id": "D2mIgCQ-nznG",
        "outputId": "bd40fe4a-a840-423d-9664-edeb32d4f77a"
      },
      "execution_count": null,
      "outputs": [
        {
          "output_type": "stream",
          "name": "stdout",
          "text": [
            "Output is: \n",
            "10\n",
            "Output is: \n",
            "70\n",
            "60\n",
            "50\n"
          ]
        }
      ]
    },
    {
      "cell_type": "code",
      "source": [
        "#scope of variables\n",
        "total=0;#The global variable\n",
        "def sum(arg1,arg2):\n",
        "  total=arg1+arg2;\n",
        "  print(\"Inside the function local total: \",total)\n",
        "  return total;\n",
        "sum(10,20);\n",
        "print(\"Outside the function global total: \",total)"
      ],
      "metadata": {
        "colab": {
          "base_uri": "https://localhost:8080/"
        },
        "id": "dJIr3uATn37p",
        "outputId": "7f30f0ba-63d7-48bd-a376-5dad97c09436"
      },
      "execution_count": null,
      "outputs": [
        {
          "output_type": "stream",
          "name": "stdout",
          "text": [
            "Inside the function local total:  30\n",
            "Outside the function global total:  0\n"
          ]
        }
      ]
    },
    {
      "cell_type": "code",
      "source": [
        "#prime number program using math functions\n",
        "from math import sqrt\n",
        "max_value=eval(input(\"Display primes up to what value?\"))\n",
        "value=2 #smallest prime number\n",
        "while value<=max_value:\n",
        "  is_prime=True\n",
        "  trial_factor=2\n",
        "  root=sqrt(value)\n",
        "  while trial_factor<=root:\n",
        "    if value%trial_factor==0:\n",
        "      is_prime=False;\n",
        "      break\n",
        "    trial_factor+=1\n",
        "  if is_prime:\n",
        "    print(value, end=' ')\n",
        "  value+=1\n",
        "print()"
      ],
      "metadata": {
        "colab": {
          "base_uri": "https://localhost:8080/"
        },
        "id": "FYEPyjwGn-6-",
        "outputId": "c5b89645-dbdb-4abb-b5e9-e5a7e8dc62d6"
      },
      "execution_count": null,
      "outputs": [
        {
          "output_type": "stream",
          "name": "stdout",
          "text": [
            "Display primes up to what value?29\n",
            "2 3 5 7 11 13 17 19 23 29 \n"
          ]
        }
      ]
    },
    {
      "cell_type": "markdown",
      "source": [
        "# New Section"
      ],
      "metadata": {
        "id": "dB7Tq58oaqZo"
      }
    },
    {
      "cell_type": "code",
      "source": [
        "\n",
        "#rolling of a die program using random module functions\n",
        "from random import randrange\n",
        "for i in range(0,5):\n",
        "  value=randrange(1,6)\n",
        "  print(\"+----------+\")\n",
        "  if value==1:\n",
        "    print(\"|         |\")\n",
        "    print(\"|    *    |\")\n",
        "    print(\"|         |\")\n",
        "    print(\"+----------+\")\n",
        "  elif value==2:\n",
        "    print(\"| *       |\")\n",
        "    print(\"|         |\")\n",
        "    print(\"|       * |\")\n",
        "    print(\"+----------+\")\n",
        "  elif value==3:\n",
        "    print(\"|       * |\")\n",
        "    print(\"|    *    |\")\n",
        "    print(\"| *       |\")\n",
        "    print(\"+----------+\")\n",
        "  elif value==4:\n",
        "    print(\"| *     * |\")\n",
        "    print(\"|         |\")\n",
        "    print(\"| *     * |\")\n",
        "    print(\"+----------+\")\n",
        "  elif value==5:\n",
        "    print(\"| *     * |\")\n",
        "    print(\"|    *    |\")\n",
        "    print(\"| *     * |\")\n",
        "    print(\"+----------+\")"
      ],
      "metadata": {
        "colab": {
          "base_uri": "https://localhost:8080/"
        },
        "id": "HrDHj85KpOgB",
        "outputId": "022d4f6d-d48e-49bc-f4a9-5bb6333b347f"
      },
      "execution_count": null,
      "outputs": [
        {
          "output_type": "stream",
          "name": "stdout",
          "text": [
            "+----------+\n",
            "| *       |\n",
            "|         |\n",
            "|       * |\n",
            "+----------+\n",
            "+----------+\n",
            "| *     * |\n",
            "|         |\n",
            "| *     * |\n",
            "+----------+\n",
            "+----------+\n",
            "| *       |\n",
            "|         |\n",
            "|       * |\n",
            "+----------+\n",
            "+----------+\n",
            "|       * |\n",
            "|    *    |\n",
            "| *       |\n",
            "+----------+\n",
            "+----------+\n",
            "|         |\n",
            "|    *    |\n",
            "|         |\n",
            "+----------+\n"
          ]
        }
      ]
    },
    {
      "cell_type": "code",
      "source": [
        "#gcdwithmain\n",
        "def gcd(m,n):\n",
        "  min=m if m<n else n\n",
        "  largestFactor=1\n",
        "  for i in range(1,min+1):\n",
        "    if m%i==0 and n%i==0:\n",
        "      largestFactor=i\n",
        "  return largestFactor\n",
        "def get_int():\n",
        "  return int(input(\"Please enter an integer: \"))\n",
        "def main():\n",
        "  n1=get_int()\n",
        "  n2=get_int()\n",
        "  print(\"gcd(\",n1,\",\", n2,\")=\",gcd(n1,n2),sep=\" \")\n",
        "main()"
      ],
      "metadata": {
        "colab": {
          "base_uri": "https://localhost:8080/"
        },
        "id": "Oyfvr7DYpXmG",
        "outputId": "1cff9543-a24a-4c75-aa41-cc630e5cc890"
      },
      "execution_count": null,
      "outputs": [
        {
          "output_type": "stream",
          "name": "stdout",
          "text": [
            "Please enter an integer: 20\n",
            "Please enter an integer: 20\n",
            "gcd( 20 , 20 )= 20\n"
          ]
        }
      ]
    },
    {
      "cell_type": "code",
      "source": [
        "#parameter passing example\n",
        "def increment(x):\n",
        "  print(\"Beginning execution of increment, x= \",x)\n",
        "  x+=1\n",
        "  print(\"Ending execition of increment, x= \",x)\n",
        "def main():\n",
        "  x=5\n",
        "  print(\"Before increment, x=\",x)\n",
        "  increment(x)\n",
        "  print(\"After increment, x=\",x)\n",
        "main()"
      ],
      "metadata": {
        "colab": {
          "base_uri": "https://localhost:8080/"
        },
        "id": "7oloALtPpjLC",
        "outputId": "638590d3-437a-45f3-eb63-7efb127f8d96"
      },
      "execution_count": null,
      "outputs": [
        {
          "output_type": "stream",
          "name": "stdout",
          "text": [
            "Before increment, x= 5\n",
            "Beginning execution of increment, x=  5\n",
            "Ending execition of increment, x=  6\n",
            "After increment, x= 5\n"
          ]
        }
      ]
    },
    {
      "cell_type": "code",
      "source": [
        "#recursion\n",
        "def factorial(n):\n",
        "  if n==0:\n",
        "    return 1\n",
        "  else:\n",
        "    return n*factorial(n-1)\n",
        "def main():\n",
        "  print(\"0!= \", factorial(0))\n",
        "  print(\"1!= \", factorial(1))\n",
        "  print(\"6!= \", factorial(6))\n",
        "  print(\"10!= \", factorial(10))\n",
        "main()"
      ],
      "metadata": {
        "colab": {
          "base_uri": "https://localhost:8080/"
        },
        "id": "1dMcf7EAppa9",
        "outputId": "6f778800-6c2f-43be-e8b0-870cc3fad31f"
      },
      "execution_count": null,
      "outputs": [
        {
          "output_type": "stream",
          "name": "stdout",
          "text": [
            "0!=  1\n",
            "1!=  1\n",
            "6!=  720\n",
            "10!=  3628800\n"
          ]
        }
      ]
    },
    {
      "cell_type": "code",
      "source": [
        "\n",
        "#arithmeticeval\n",
        "def add(x,y):\n",
        "  return x+y\n",
        "def multiply(x,y):\n",
        "  return x*y\n",
        "def evaluate(f,x,y):\n",
        "  return f(x,y)\n",
        "def main():\n",
        "  print(add(2,3))\n",
        "  print(multiply(2,3))\n",
        "  print(evaluate(add,2,3))\n",
        "  print(evaluate(multiply,2,3))\n",
        "main()"
      ],
      "metadata": {
        "colab": {
          "base_uri": "https://localhost:8080/"
        },
        "id": "aiqy2QYUpvL4",
        "outputId": "60f87771-6b5f-4030-b7ef-adeb7fb05fd9"
      },
      "execution_count": null,
      "outputs": [
        {
          "output_type": "stream",
          "name": "stdout",
          "text": [
            "5\n",
            "6\n",
            "5\n",
            "6\n"
          ]
        }
      ]
    }
  ]
}