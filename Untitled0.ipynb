{
  "nbformat": 4,
  "nbformat_minor": 0,
  "metadata": {
    "colab": {
      "name": "Untitled0.ipynb",
      "provenance": [],
      "authorship_tag": "ABX9TyPB48HJ2YUmhsEwirnSQ2Lh",
      "include_colab_link": true
    },
    "kernelspec": {
      "name": "python3",
      "display_name": "Python 3"
    },
    "language_info": {
      "name": "python"
    }
  },
  "cells": [
    {
      "cell_type": "markdown",
      "metadata": {
        "id": "view-in-github",
        "colab_type": "text"
      },
      "source": [
        "<a href=\"https://colab.research.google.com/github/201351601015/GOKUL.T/blob/main/Untitled0.ipynb\" target=\"_parent\"><img src=\"https://colab.research.google.com/assets/colab-badge.svg\" alt=\"Open In Colab\"/></a>"
      ]
    },
    {
      "cell_type": "code",
      "execution_count": 1,
      "metadata": {
        "colab": {
          "base_uri": "https://localhost:8080/"
        },
        "id": "8CzDDoK2K099",
        "outputId": "28fc8077-02c3-4fcb-eb49-820b141ea403"
      },
      "outputs": [
        {
          "output_type": "stream",
          "name": "stdout",
          "text": [
            "the sum of 1.5 and 6.5is 8.0\n"
          ]
        }
      ],
      "source": [
        "num1=1.5\n",
        "num2=6.5\n",
        "sum=num1+num2\n",
        "print('the sum of {0} and {1}is {2}'.format(num1,num2,sum))\n"
      ]
    },
    {
      "cell_type": "code",
      "source": [
        "num1=input('enter first number:')\n",
        "num2=input('enter second number:')\n",
        "sum=float(num1)+float(num2)\n",
        "print('the sum of {0} and {1} is {2}'.format(num1,num2,sum))"
      ],
      "metadata": {
        "colab": {
          "base_uri": "https://localhost:8080/"
        },
        "id": "WDVc1chfMpHK",
        "outputId": "3a8c9fec-7c7d-49cb-8899-3ca2da075234"
      },
      "execution_count": 2,
      "outputs": [
        {
          "output_type": "stream",
          "name": "stdout",
          "text": [
            "enter first number:1.5\n",
            "enter second number:6.3\n",
            "the sum of 1.5 and 6.3 is 7.8\n"
          ]
        }
      ]
    },
    {
      "cell_type": "code",
      "source": [
        "num=8\n",
        "num_sqrt=num**0.5\n",
        "print('the square root of %0.3f is %0.3f'%(num,num_sqrt))"
      ],
      "metadata": {
        "colab": {
          "base_uri": "https://localhost:8080/"
        },
        "id": "JAx9EkguM8Dm",
        "outputId": "a68ccba4-017f-437d-821b-18457288c9f1"
      },
      "execution_count": 3,
      "outputs": [
        {
          "output_type": "stream",
          "name": "stdout",
          "text": [
            "the square root of 8.000 is 2.828\n"
          ]
        }
      ]
    },
    {
      "cell_type": "code",
      "source": [
        ""
      ],
      "metadata": {
        "id": "xvjsTU8LaswD"
      },
      "execution_count": null,
      "outputs": []
    },
    {
      "cell_type": "code",
      "source": [
        "import cmath\n",
        "num =1+2j\n",
        "num_sqrt +cmath.sqrt(num)\n",
        "print('the square root of {0} is {1:0.3f}+{2:0.3f}j'.format(num,num_sqrt.real,num_sqrt.imag))"
      ],
      "metadata": {
        "colab": {
          "base_uri": "https://localhost:8080/"
        },
        "id": "Fe1tDYzSNFqV",
        "outputId": "67e162b8-9ac1-46c8-965c-cdf1ec0395f7"
      },
      "execution_count": 5,
      "outputs": [
        {
          "output_type": "stream",
          "name": "stdout",
          "text": [
            "the square root of (1+2j) is 2.828+0.000j\n"
          ]
        }
      ]
    },
    {
      "cell_type": "code",
      "source": [
        "a=5\n",
        "b=6\n",
        "c=7\n",
        "s=(a+b+c)/2\n",
        "area=(s*(s-a)*(s-b)*(s-c))**0.5\n",
        "print('the area of the triangle is %0.2f'%area)"
      ],
      "metadata": {
        "colab": {
          "base_uri": "https://localhost:8080/"
        },
        "id": "nOW7xIn0aunP",
        "outputId": "d6520342-67b6-40a0-b3ba-5d495d8c9a00"
      },
      "execution_count": 6,
      "outputs": [
        {
          "output_type": "stream",
          "name": "stdout",
          "text": [
            "the area of the triangle is 14.70\n"
          ]
        }
      ]
    },
    {
      "cell_type": "code",
      "source": [
        "x=5\n",
        "y=10\n",
        "temp=x\n",
        "x=y\n",
        "y=temp\n",
        "print('the value of x after swapping:{}'.format(x))\n",
        "print('the value of y after swapping:{}'.format(y))"
      ],
      "metadata": {
        "colab": {
          "base_uri": "https://localhost:8080/"
        },
        "id": "u6ubvM-Oa4FX",
        "outputId": "49a56bde-49e9-43ef-d001-d9df501498cc"
      },
      "execution_count": 7,
      "outputs": [
        {
          "output_type": "stream",
          "name": "stdout",
          "text": [
            "the value of x after swapping:10\n",
            "the value of y after swapping:5\n"
          ]
        }
      ]
    },
    {
      "cell_type": "code",
      "source": [
        "number=10\n",
        "number=1.1\n",
        "website=\"apple.com\"\n",
        "print(website)\n",
        "website=\"programiz.com\"\n",
        "print(website)"
      ],
      "metadata": {
        "colab": {
          "base_uri": "https://localhost:8080/"
        },
        "id": "HAgLjuTRa_gm",
        "outputId": "6753ffcf-cf71-47f8-96e6-15bc625133a9"
      },
      "execution_count": 8,
      "outputs": [
        {
          "output_type": "stream",
          "name": "stdout",
          "text": [
            "apple.com\n",
            "programiz.com\n"
          ]
        }
      ]
    },
    {
      "cell_type": "code",
      "source": [
        "number=10\n",
        "number=1.1\n",
        "website=\"apple.com\"\n",
        "print(website)"
      ],
      "metadata": {
        "colab": {
          "base_uri": "https://localhost:8080/"
        },
        "id": "ER9pE0GWbGOP",
        "outputId": "4b272de6-b7db-45af-fd93-597328d0c1ef"
      },
      "execution_count": 9,
      "outputs": [
        {
          "output_type": "stream",
          "name": "stdout",
          "text": [
            "apple.com\n"
          ]
        }
      ]
    }
  ]
}